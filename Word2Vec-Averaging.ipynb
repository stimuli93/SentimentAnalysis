{
 "cells": [
  {
   "cell_type": "code",
   "execution_count": 1,
   "metadata": {
    "collapsed": true
   },
   "outputs": [],
   "source": [
    "import numpy as np\n",
    "import pandas as pd\n",
    "import matplotlib.pyplot as plt\n",
    "import seaborn as sns\n",
    "import re\n",
    "from bs4 import BeautifulSoup\n",
    "%matplotlib inline"
   ]
  },
  {
   "cell_type": "code",
   "execution_count": 2,
   "metadata": {
    "collapsed": true
   },
   "outputs": [],
   "source": [
    "train = pd.read_csv('labeledTrainData.tsv',quoting=3,header=0,delimiter='\\t')\n",
    "test = pd.read_csv('testData.tsv',quoting=3,header=0,delimiter='\\t')\n",
    "all_data = pd.read_csv('unlabeledTrainData.tsv',quoting=3,header=0,delimiter='\\t')"
   ]
  },
  {
   "cell_type": "code",
   "execution_count": 3,
   "metadata": {
    "collapsed": false
   },
   "outputs": [
    {
     "data": {
      "text/html": [
       "<div>\n",
       "<table border=\"1\" class=\"dataframe\">\n",
       "  <thead>\n",
       "    <tr style=\"text-align: right;\">\n",
       "      <th></th>\n",
       "      <th>id</th>\n",
       "      <th>sentiment</th>\n",
       "      <th>review</th>\n",
       "    </tr>\n",
       "  </thead>\n",
       "  <tbody>\n",
       "    <tr>\n",
       "      <th>0</th>\n",
       "      <td>\"5814_8\"</td>\n",
       "      <td>1</td>\n",
       "      <td>\"With all this stuff going down at the moment ...</td>\n",
       "    </tr>\n",
       "    <tr>\n",
       "      <th>1</th>\n",
       "      <td>\"2381_9\"</td>\n",
       "      <td>1</td>\n",
       "      <td>\"\\\"The Classic War of the Worlds\\\" by Timothy ...</td>\n",
       "    </tr>\n",
       "    <tr>\n",
       "      <th>2</th>\n",
       "      <td>\"7759_3\"</td>\n",
       "      <td>0</td>\n",
       "      <td>\"The film starts with a manager (Nicholas Bell...</td>\n",
       "    </tr>\n",
       "    <tr>\n",
       "      <th>3</th>\n",
       "      <td>\"3630_4\"</td>\n",
       "      <td>0</td>\n",
       "      <td>\"It must be assumed that those who praised thi...</td>\n",
       "    </tr>\n",
       "    <tr>\n",
       "      <th>4</th>\n",
       "      <td>\"9495_8\"</td>\n",
       "      <td>1</td>\n",
       "      <td>\"Superbly trashy and wondrously unpretentious ...</td>\n",
       "    </tr>\n",
       "  </tbody>\n",
       "</table>\n",
       "</div>"
      ],
      "text/plain": [
       "         id  sentiment                                             review\n",
       "0  \"5814_8\"          1  \"With all this stuff going down at the moment ...\n",
       "1  \"2381_9\"          1  \"\\\"The Classic War of the Worlds\\\" by Timothy ...\n",
       "2  \"7759_3\"          0  \"The film starts with a manager (Nicholas Bell...\n",
       "3  \"3630_4\"          0  \"It must be assumed that those who praised thi...\n",
       "4  \"9495_8\"          1  \"Superbly trashy and wondrously unpretentious ..."
      ]
     },
     "execution_count": 3,
     "metadata": {},
     "output_type": "execute_result"
    }
   ],
   "source": [
    "train.head()"
   ]
  },
  {
   "cell_type": "code",
   "execution_count": 4,
   "metadata": {
    "collapsed": false
   },
   "outputs": [
    {
     "data": {
      "text/plain": [
       "'\"With all this stuff going down at the moment with MJ i\\'ve started listening to his music, watching the odd documentary here and there, watched The Wiz and watched Moonwalker again. Maybe i just want to get a certain insight into this guy who i thought was really cool in the eighties just to maybe make up my mind whether he is guilty or innocent. Moonwalker is part biography, part feature film which i remember going to see at the cinema when it was originally released. Some of it has subtle messages about MJ\\'s feeling towards the press and also the obvious message of drugs are bad m\\'kay.<br /><br />Visually impressive but of course this is all about Michael Jackson so unless you remotely like MJ in anyway then you are going to hate this and find it boring. Some may call MJ an egotist for consenting to the making of this movie BUT MJ and most of his fans would say that he made it for the fans which if true is really nice of him.<br /><br />The actual feature film bit when it finally starts is only on for 20 minutes or so excluding the Smooth Criminal sequence and Joe Pesci is convincing as a psychopathic all powerful drug lord. Why he wants MJ dead so bad is beyond me. Because MJ overheard his plans? Nah, Joe Pesci\\'s character ranted that he wanted people to know it is he who is supplying drugs etc so i dunno, maybe he just hates MJ\\'s music.<br /><br />Lots of cool things in this like MJ turning into a car and a robot and the whole Speed Demon sequence. Also, the director must have had the patience of a saint when it came to filming the kiddy Bad sequence as usually directors hate working with one kid let alone a whole bunch of them performing a complex dance scene.<br /><br />Bottom line, this movie is for people who like MJ on one level or another (which i think is most people). If not, then stay away. It does try and give off a wholesome message and ironically MJ\\'s bestest buddy in this movie is a girl! Michael Jackson is truly one of the most talented people ever to grace this planet but is he guilty? Well, with all the attention i\\'ve gave this subject....hmmm well i don\\'t know because people can be different behind closed doors, i know this for a fact. He is either an extremely nice but stupid guy or one of the most sickest liars. I hope he is not the latter.\"'"
      ]
     },
     "execution_count": 4,
     "metadata": {},
     "output_type": "execute_result"
    }
   ],
   "source": [
    "train.review[0]"
   ]
  },
  {
   "cell_type": "code",
   "execution_count": 5,
   "metadata": {
    "collapsed": true
   },
   "outputs": [],
   "source": [
    "def clean_review(movie_review):\n",
    "    #Remove HTML tags\n",
    "    review = BeautifulSoup(movie_review,\"lxml\").get_text()\n",
    "    \n",
    "    #Remove non-alphabets\n",
    "    review = re.sub(\"[^a-zA-Z]\",\" \",review)\n",
    "    return review.lower().split()"
   ]
  },
  {
   "cell_type": "code",
   "execution_count": 6,
   "metadata": {
    "collapsed": false
   },
   "outputs": [],
   "source": [
    "trainReview = [clean_review(review) for review in train.review]\n",
    "testReview = [clean_review(review) for review in test.review]\n",
    "all_dataReview = [clean_review(review) for review in all_data.review]"
   ]
  },
  {
   "cell_type": "code",
   "execution_count": 7,
   "metadata": {
    "collapsed": false
   },
   "outputs": [],
   "source": [
    "vocab = trainReview + all_dataReview"
   ]
  },
  {
   "cell_type": "code",
   "execution_count": 8,
   "metadata": {
    "collapsed": false
   },
   "outputs": [],
   "source": [
    "from gensim.models import Word2Vec\n",
    "vec = Word2Vec(size=100, window=8, min_count=10)\n",
    "vec.build_vocab(vocab)"
   ]
  },
  {
   "cell_type": "code",
   "execution_count": null,
   "metadata": {
    "collapsed": false
   },
   "outputs": [],
   "source": [
    "vec.train(vocab)\n",
    "vec.save('word2vec.w2v')"
   ]
  },
  {
   "cell_type": "code",
   "execution_count": 9,
   "metadata": {
    "collapsed": true
   },
   "outputs": [],
   "source": [
    "vec = Word2Vec.load('word2vec.w2v')"
   ]
  },
  {
   "cell_type": "code",
   "execution_count": 10,
   "metadata": {
    "collapsed": false
   },
   "outputs": [
    {
     "data": {
      "text/plain": [
       "[(u'satisfied', 0.5956597328186035),\n",
       " (u'sad', 0.549846351146698),\n",
       " (u'grateful', 0.5493713617324829),\n",
       " (u'lucky', 0.5319870710372925),\n",
       " (u'proud', 0.5263656377792358),\n",
       " (u'upset', 0.5063146948814392),\n",
       " (u'afraid', 0.4847458302974701),\n",
       " (u'gonna', 0.4839704632759094),\n",
       " (u'saddened', 0.48121848702430725),\n",
       " (u'pleased', 0.48070013523101807)]"
      ]
     },
     "execution_count": 10,
     "metadata": {},
     "output_type": "execute_result"
    }
   ],
   "source": [
    "vec.most_similar('happy')"
   ]
  },
  {
   "cell_type": "code",
   "execution_count": 11,
   "metadata": {
    "collapsed": false
   },
   "outputs": [
    {
     "data": {
      "text/plain": [
       "34118"
      ]
     },
     "execution_count": 11,
     "metadata": {},
     "output_type": "execute_result"
    }
   ],
   "source": [
    "len(vec.index2word)"
   ]
  },
  {
   "cell_type": "code",
   "execution_count": 12,
   "metadata": {
    "collapsed": true
   },
   "outputs": [],
   "source": [
    "vocab = set(vec.index2word)\n",
    "def getWordVectorAverage(review):\n",
    "    count = 0\n",
    "    ans = np.zeros(100)\n",
    "    for word in review:\n",
    "        if word in vocab:\n",
    "            ans += vec[word]\n",
    "            count += 1\n",
    "    if(count == 0):\n",
    "        return ans\n",
    "    return ans / count"
   ]
  },
  {
   "cell_type": "code",
   "execution_count": 13,
   "metadata": {
    "collapsed": false
   },
   "outputs": [],
   "source": [
    "X_train = [getWordVectorAverage(review) for review in trainReview]\n",
    "X_test = [getWordVectorAverage(review) for review in testReview]"
   ]
  },
  {
   "cell_type": "code",
   "execution_count": 14,
   "metadata": {
    "collapsed": true
   },
   "outputs": [],
   "source": [
    "from models import MLP\n",
    "%matplotlib inline\n",
    "plt.rcParams['figure.figsize'] = (10.0, 8.0) # set default size of plots\n",
    "plt.rcParams['image.interpolation'] = 'nearest'\n",
    "plt.rcParams['image.cmap'] = 'gray'"
   ]
  },
  {
   "cell_type": "code",
   "execution_count": 15,
   "metadata": {
    "collapsed": true
   },
   "outputs": [],
   "source": [
    "X_train = np.array(X_train)\n",
    "X_test = np.array(X_test)\n",
    "y_train = train.sentiment.values"
   ]
  },
  {
   "cell_type": "code",
   "execution_count": 16,
   "metadata": {
    "collapsed": false
   },
   "outputs": [],
   "source": [
    "from sklearn.cross_validation import train_test_split\n",
    "X1,X2,y1,y2 = train_test_split(X_train,y_train,test_size=0.3)"
   ]
  },
  {
   "cell_type": "code",
   "execution_count": 17,
   "metadata": {
    "collapsed": true
   },
   "outputs": [],
   "source": [
    "input_size=100\n",
    "hiddenSize1=60\n",
    "hiddenSize2 = 30\n",
    "output_size=2\n",
    "model = MLP(input_size,hiddenSize1,hiddenSize2,output_size,hiddenLayer='relu')"
   ]
  },
  {
   "cell_type": "code",
   "execution_count": 18,
   "metadata": {
    "collapsed": false
   },
   "outputs": [
    {
     "name": "stdout",
     "output_type": "stream",
     "text": [
      "Iteration 0, loss = 1.515397\n",
      "Validation Accuracy :0.495867\n",
      "Iteration 500, loss = 0.410136\n",
      "Validation Accuracy :0.832800\n",
      "Iteration 1000, loss = 0.400866\n",
      "Validation Accuracy :0.853600\n",
      "Iteration 1500, loss = 0.338523\n",
      "Validation Accuracy :0.865333\n",
      "Iteration 2000, loss = 0.320454\n",
      "Validation Accuracy :0.865733\n",
      "Iteration 2500, loss = 0.368896\n",
      "Validation Accuracy :0.868667\n",
      "Iteration 3000, loss = 0.312390\n",
      "Validation Accuracy :0.869200\n",
      "Iteration 3500, loss = 0.294429\n",
      "Validation Accuracy :0.871067\n",
      "Iteration 4000, loss = 0.347997\n",
      "Validation Accuracy :0.870667\n",
      "Iteration 4500, loss = 0.338491\n",
      "Validation Accuracy :0.870267\n",
      "Iteration 5000, loss = 0.335662\n",
      "Validation Accuracy :0.871600\n",
      "Iteration 5500, loss = 0.349362\n",
      "Validation Accuracy :0.869600\n",
      "Iteration 6000, loss = 0.286980\n",
      "Validation Accuracy :0.872800\n",
      "Iteration 6500, loss = 0.332802\n",
      "Validation Accuracy :0.872667\n",
      "Iteration 7000, loss = 0.361660\n",
      "Validation Accuracy :0.873467\n",
      "Iteration 7500, loss = 0.314364\n",
      "Validation Accuracy :0.873867\n",
      "Iteration 8000, loss = 0.344867\n",
      "Validation Accuracy :0.873733\n",
      "Iteration 8500, loss = 0.279054\n",
      "Validation Accuracy :0.874667\n",
      "Iteration 9000, loss = 0.349441\n",
      "Validation Accuracy :0.874267\n",
      "Iteration 9500, loss = 0.295404\n",
      "Validation Accuracy :0.874133\n"
     ]
    }
   ],
   "source": [
    "model.train(X1,y1,X_val=X2,y_val=y2,n_iters=10000,learning_rate=4e-3,opt='momentum')"
   ]
  },
  {
   "cell_type": "code",
   "execution_count": 19,
   "metadata": {
    "collapsed": false
   },
   "outputs": [
    {
     "data": {
      "text/plain": [
       "[<matplotlib.lines.Line2D at 0x10e4047d0>]"
      ]
     },
     "execution_count": 19,
     "metadata": {},
     "output_type": "execute_result"
    },
    {
     "data": {
      "image/png": "[encoded data removed]",
      "text/plain": [
       "<matplotlib.figure.Figure at 0x17e398310>"
      ]
     },
     "metadata": {},
     "output_type": "display_data"
    }
   ],
   "source": [
    "plt.plot(model.loss_history)"
   ]
  },
  {
   "cell_type": "code",
   "execution_count": 20,
   "metadata": {
    "collapsed": false
   },
   "outputs": [
    {
     "name": "stdout",
     "output_type": "stream",
     "text": [
      "Iteration 0, loss = 0.323256\n",
      "Iteration 500, loss = 0.330103\n",
      "Iteration 1000, loss = 0.327119\n",
      "Iteration 1500, loss = 0.273391\n",
      "Iteration 2000, loss = 0.238053\n",
      "Iteration 2500, loss = 0.221127\n",
      "Iteration 3000, loss = 0.384681\n",
      "Iteration 3500, loss = 0.330963\n",
      "Iteration 4000, loss = 0.289163\n",
      "Iteration 4500, loss = 0.222092\n",
      "Iteration 5000, loss = 0.326614\n",
      "Iteration 5500, loss = 0.289439\n",
      "Iteration 6000, loss = 0.279050\n",
      "Iteration 6500, loss = 0.275837\n",
      "Iteration 7000, loss = 0.291432\n",
      "Iteration 7500, loss = 0.265235\n",
      "Iteration 8000, loss = 0.344724\n",
      "Iteration 8500, loss = 0.240434\n",
      "Iteration 9000, loss = 0.287905\n",
      "Iteration 9500, loss = 0.290310\n"
     ]
    }
   ],
   "source": [
    "model.train(X_train,y_train,n_iters=10000,learning_rate=4e-3,opt='momentum')"
   ]
  },
  {
   "cell_type": "code",
   "execution_count": 21,
   "metadata": {
    "collapsed": true
   },
   "outputs": [],
   "source": [
    "result = model.predict(X_test)"
   ]
  },
  {
   "cell_type": "code",
   "execution_count": 22,
   "metadata": {
    "collapsed": false
   },
   "outputs": [
    {
     "data": {
      "text/plain": [
       "array([1, 0, 1, ..., 0, 1, 1])"
      ]
     },
     "execution_count": 22,
     "metadata": {},
     "output_type": "execute_result"
    }
   ],
   "source": [
    "result"
   ]
  },
  {
   "cell_type": "code",
   "execution_count": 23,
   "metadata": {
    "collapsed": true
   },
   "outputs": [],
   "source": [
    "output = pd.DataFrame(data={\"id\":test[\"id\"],\"sentiment\":result})"
   ]
  },
  {
   "cell_type": "code",
   "execution_count": 24,
   "metadata": {
    "collapsed": true
   },
   "outputs": [],
   "source": [
    "output.to_csv(\"W2V-Average.csv\",index=False,quoting=3)"
   ]
  },
  {
   "cell_type": "markdown",
   "metadata": {
    "collapsed": true
   },
   "source": [
    "Got 0.86560 on Kaggle"
   ]
  }
 ],
 "metadata": {
  "kernelspec": {
   "display_name": "Python 2",
   "language": "python",
   "name": "python2"
  },
  "language_info": {
   "codemirror_mode": {
    "name": "ipython",
    "version": 2
   },
   "file_extension": ".py",
   "mimetype": "text/x-python",
   "name": "python",
   "nbconvert_exporter": "python",
   "pygments_lexer": "ipython2",
   "version": "2.7.11"
  }
 },
 "nbformat": 4,
 "nbformat_minor": 0
}
