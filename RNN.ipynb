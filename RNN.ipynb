{
 "cells": [
  {
   "cell_type": "markdown",
   "metadata": {},
   "source": [
    "## Sentiment Analysis using Recurrent Neural Network"
   ]
  },
  {
   "cell_type": "code",
   "execution_count": 1,
   "metadata": {
    "collapsed": true
   },
   "outputs": [],
   "source": [
    "import numpy as np\n",
    "import pandas as pd\n",
    "import matplotlib.pyplot as plt\n",
    "import seaborn as sns\n",
    "import re\n",
    "from bs4 import BeautifulSoup\n",
    "%matplotlib inline"
   ]
  },
  {
   "cell_type": "code",
   "execution_count": 2,
   "metadata": {
    "collapsed": true
   },
   "outputs": [],
   "source": [
    "train = pd.read_csv('labeledTrainData.tsv',quoting=3,header=0,delimiter='\\t')\n",
    "test = pd.read_csv('testData.tsv',quoting=3,header=0,delimiter='\\t')\n",
    "all_data = pd.read_csv('unlabeledTrainData.tsv',quoting=3,header=0,delimiter='\\t')"
   ]
  },
  {
   "cell_type": "code",
   "execution_count": 3,
   "metadata": {
    "collapsed": false
   },
   "outputs": [
    {
     "data": {
      "text/html": [
       "<div>\n",
       "<table border=\"1\" class=\"dataframe\">\n",
       "  <thead>\n",
       "    <tr style=\"text-align: right;\">\n",
       "      <th></th>\n",
       "      <th>id</th>\n",
       "      <th>sentiment</th>\n",
       "      <th>review</th>\n",
       "    </tr>\n",
       "  </thead>\n",
       "  <tbody>\n",
       "    <tr>\n",
       "      <th>0</th>\n",
       "      <td>\"5814_8\"</td>\n",
       "      <td>1</td>\n",
       "      <td>\"With all this stuff going down at the moment ...</td>\n",
       "    </tr>\n",
       "    <tr>\n",
       "      <th>1</th>\n",
       "      <td>\"2381_9\"</td>\n",
       "      <td>1</td>\n",
       "      <td>\"\\\"The Classic War of the Worlds\\\" by Timothy ...</td>\n",
       "    </tr>\n",
       "    <tr>\n",
       "      <th>2</th>\n",
       "      <td>\"7759_3\"</td>\n",
       "      <td>0</td>\n",
       "      <td>\"The film starts with a manager (Nicholas Bell...</td>\n",
       "    </tr>\n",
       "    <tr>\n",
       "      <th>3</th>\n",
       "      <td>\"3630_4\"</td>\n",
       "      <td>0</td>\n",
       "      <td>\"It must be assumed that those who praised thi...</td>\n",
       "    </tr>\n",
       "    <tr>\n",
       "      <th>4</th>\n",
       "      <td>\"9495_8\"</td>\n",
       "      <td>1</td>\n",
       "      <td>\"Superbly trashy and wondrously unpretentious ...</td>\n",
       "    </tr>\n",
       "  </tbody>\n",
       "</table>\n",
       "</div>"
      ],
      "text/plain": [
       "         id  sentiment                                             review\n",
       "0  \"5814_8\"          1  \"With all this stuff going down at the moment ...\n",
       "1  \"2381_9\"          1  \"\\\"The Classic War of the Worlds\\\" by Timothy ...\n",
       "2  \"7759_3\"          0  \"The film starts with a manager (Nicholas Bell...\n",
       "3  \"3630_4\"          0  \"It must be assumed that those who praised thi...\n",
       "4  \"9495_8\"          1  \"Superbly trashy and wondrously unpretentious ..."
      ]
     },
     "execution_count": 3,
     "metadata": {},
     "output_type": "execute_result"
    }
   ],
   "source": [
    "train.head()"
   ]
  },
  {
   "cell_type": "code",
   "execution_count": 4,
   "metadata": {
    "collapsed": false
   },
   "outputs": [
    {
     "data": {
      "text/plain": [
       "'\"With all this stuff going down at the moment with MJ i\\'ve started listening to his music, watching the odd documentary here and there, watched The Wiz and watched Moonwalker again. Maybe i just want to get a certain insight into this guy who i thought was really cool in the eighties just to maybe make up my mind whether he is guilty or innocent. Moonwalker is part biography, part feature film which i remember going to see at the cinema when it was originally released. Some of it has subtle messages about MJ\\'s feeling towards the press and also the obvious message of drugs are bad m\\'kay.<br /><br />Visually impressive but of course this is all about Michael Jackson so unless you remotely like MJ in anyway then you are going to hate this and find it boring. Some may call MJ an egotist for consenting to the making of this movie BUT MJ and most of his fans would say that he made it for the fans which if true is really nice of him.<br /><br />The actual feature film bit when it finally starts is only on for 20 minutes or so excluding the Smooth Criminal sequence and Joe Pesci is convincing as a psychopathic all powerful drug lord. Why he wants MJ dead so bad is beyond me. Because MJ overheard his plans? Nah, Joe Pesci\\'s character ranted that he wanted people to know it is he who is supplying drugs etc so i dunno, maybe he just hates MJ\\'s music.<br /><br />Lots of cool things in this like MJ turning into a car and a robot and the whole Speed Demon sequence. Also, the director must have had the patience of a saint when it came to filming the kiddy Bad sequence as usually directors hate working with one kid let alone a whole bunch of them performing a complex dance scene.<br /><br />Bottom line, this movie is for people who like MJ on one level or another (which i think is most people). If not, then stay away. It does try and give off a wholesome message and ironically MJ\\'s bestest buddy in this movie is a girl! Michael Jackson is truly one of the most talented people ever to grace this planet but is he guilty? Well, with all the attention i\\'ve gave this subject....hmmm well i don\\'t know because people can be different behind closed doors, i know this for a fact. He is either an extremely nice but stupid guy or one of the most sickest liars. I hope he is not the latter.\"'"
      ]
     },
     "execution_count": 4,
     "metadata": {},
     "output_type": "execute_result"
    }
   ],
   "source": [
    "train.review[0]"
   ]
  },
  {
   "cell_type": "code",
   "execution_count": 5,
   "metadata": {
    "collapsed": true
   },
   "outputs": [],
   "source": [
    "def clean_review(movie_review):\n",
    "    #Remove HTML tags\n",
    "    review = BeautifulSoup(movie_review,\"lxml\").get_text()\n",
    "    \n",
    "    #Remove non-alphabets\n",
    "    review = re.sub(\"[^a-zA-Z]\",\" \",review)\n",
    "    return review.lower()"
   ]
  },
  {
   "cell_type": "code",
   "execution_count": 6,
   "metadata": {
    "collapsed": false
   },
   "outputs": [],
   "source": [
    "trainReview = [clean_review(review) for review in train.review]\n",
    "testReview = [clean_review(review) for review in test.review]\n",
    "all_dataReview = [clean_review(review) for review in all_data.review]"
   ]
  },
  {
   "cell_type": "code",
   "execution_count": 7,
   "metadata": {
    "collapsed": true
   },
   "outputs": [],
   "source": [
    "from passage.models import RNN\n",
    "from passage.updates import Adadelta\n",
    "from passage.layers import Embedding, Dense, GatedRecurrent\n",
    "from passage.preprocessing import Tokenizer"
   ]
  },
  {
   "cell_type": "code",
   "execution_count": 8,
   "metadata": {
    "collapsed": false
   },
   "outputs": [
    {
     "data": {
      "text/plain": [
       "<passage.preprocessing.Tokenizer at 0x11ff5dad0>"
      ]
     },
     "execution_count": 8,
     "metadata": {},
     "output_type": "execute_result"
    }
   ],
   "source": [
    "tokenizer = Tokenizer(min_df=10, max_features=100000)\n",
    "tokenizer.fit(trainReview+testReview+all_dataReview)"
   ]
  },
  {
   "cell_type": "code",
   "execution_count": 9,
   "metadata": {
    "collapsed": true
   },
   "outputs": [],
   "source": [
    "X_train = tokenizer.transform(trainReview)\n",
    "y_train = train.sentiment.values"
   ]
  },
  {
   "cell_type": "code",
   "execution_count": 10,
   "metadata": {
    "collapsed": false
   },
   "outputs": [],
   "source": [
    "layers = [\n",
    "\t\tEmbedding(size=256, n_features=tokenizer.n_features),\n",
    "\t\tGatedRecurrent(size=512, activation='tanh', gate_activation='steeper_sigmoid', init='orthogonal', seq_output=False, p_drop=0.75),\n",
    "\t\tDense(size=1, activation='sigmoid', init='orthogonal')\n",
    "\t]\n",
    "\n",
    "model = RNN(layers=layers, cost='bce', updater=Adadelta(lr=0.5))"
   ]
  },
  {
   "cell_type": "code",
   "execution_count": 12,
   "metadata": {
    "collapsed": false
   },
   "outputs": [
    {
     "name": "stdout",
     "output_type": "stream",
     "text": [
      "Epoch 0 Seen 24750 samples Avg cost 0.6484 Time elapsed 2826 seconds\n"
     ]
    },
    {
     "data": {
      "text/plain": [
       "[array(0.6835602692876249),\n",
       " array(0.6858440322438711),\n",
       " array(0.6886432352127233),\n",
       " array(0.6889696293159099),\n",
       " array(0.6875647772886956),\n",
       " array(0.6903984185872014),\n",
       " array(0.6913470969705788),\n",
       " array(0.6864612808493652),\n",
       " array(0.6959257388158249),\n",
       " array(0.689425637170128),\n",
       " array(0.6860785136647823),\n",
       " array(0.6873513337483851),\n",
       " array(0.6820968853550499),\n",
       " array(0.6970065640867107),\n",
       " array(0.6982562720138159),\n",
       " array(0.6867557036555055),\n",
       " array(0.6916175077136983),\n",
       " array(0.6888124025654861),\n",
       " array(0.6965631262252319),\n",
       " array(0.6904485235933381),\n",
       " array(0.6878855883662756),\n",
       " array(0.687480299109684),\n",
       " array(0.6910420431121765),\n",
       " array(0.6872921410456206),\n",
       " array(0.681380579887992),\n",
       " array(0.6903676966334397),\n",
       " array(0.69770800489216),\n",
       " array(0.6819219416628711),\n",
       " array(0.690200584553394),\n",
       " array(0.6955555312395942),\n",
       " array(0.686180943464286),\n",
       " array(0.6855235021445224),\n",
       " array(0.695169138611788),\n",
       " array(0.688357516622585),\n",
       " array(0.6931355771103304),\n",
       " array(0.6841040281099225),\n",
       " array(0.6969056215081805),\n",
       " array(0.6924780261177436),\n",
       " array(0.6913776566329582),\n",
       " array(0.6851559590033828),\n",
       " array(0.6898850184355028),\n",
       " array(0.6902505299374594),\n",
       " array(0.685342867462791),\n",
       " array(0.6873903052003361),\n",
       " array(0.6846438575390054),\n",
       " array(0.6866735133916301),\n",
       " array(0.673220893303342),\n",
       " array(0.6907203789620632),\n",
       " array(0.6851953116486366),\n",
       " array(0.6757809943760209),\n",
       " array(0.6907714911568031),\n",
       " array(0.7078951489170336),\n",
       " array(0.6815685886661302),\n",
       " array(0.6882545559544505),\n",
       " array(0.6976396046639816),\n",
       " array(0.6792896190467457),\n",
       " array(0.679445568179215),\n",
       " array(0.6880932604147791),\n",
       " array(0.6820303522492126),\n",
       " array(0.6812676097922593),\n",
       " array(0.6815821924569611),\n",
       " array(0.6880665221038915),\n",
       " array(0.6879287939074517),\n",
       " array(0.6827134068515969),\n",
       " array(0.6825510827475799),\n",
       " array(0.6754385134326063),\n",
       " array(0.6845072430447757),\n",
       " array(0.6928276144130028),\n",
       " array(0.6894163607183805),\n",
       " array(0.6843113440898311),\n",
       " array(0.6996047498410364),\n",
       " array(0.6889181767410989),\n",
       " array(0.683801455816168),\n",
       " array(0.6980936420528443),\n",
       " array(0.6798424304340315),\n",
       " array(0.6887832474405348),\n",
       " array(0.6918351642267918),\n",
       " array(0.683186094735532),\n",
       " array(0.6818089578948023),\n",
       " array(0.6908682815022883),\n",
       " array(0.67807009124664),\n",
       " array(0.6929488965878636),\n",
       " array(0.6778070255091242),\n",
       " array(0.6891744350588607),\n",
       " array(0.6906233367974831),\n",
       " array(0.6845727278665658),\n",
       " array(0.6820984071548546),\n",
       " array(0.684562824631924),\n",
       " array(0.6818546089737485),\n",
       " array(0.6904242605016403),\n",
       " array(0.6908034226777399),\n",
       " array(0.6876225231950641),\n",
       " array(0.6836220248091699),\n",
       " array(0.6880980773989824),\n",
       " array(0.6907097717086328),\n",
       " array(0.6873666557914202),\n",
       " array(0.6793532148369864),\n",
       " array(0.6900961856088283),\n",
       " array(0.6977390758727147),\n",
       " array(0.6873130576312806),\n",
       " array(0.6829150212697952),\n",
       " array(0.6781096709943799),\n",
       " array(0.6715447577508181),\n",
       " array(0.6717905726417889),\n",
       " array(0.6901207737519945),\n",
       " array(0.6797056445363973),\n",
       " array(0.6796794985660933),\n",
       " array(0.6975504787469813),\n",
       " array(0.6905534912721875),\n",
       " array(0.6927098442478018),\n",
       " array(0.6883412408553722),\n",
       " array(0.691725292219343),\n",
       " array(0.6862671879477306),\n",
       " array(0.6784190491173979),\n",
       " array(0.677506348643272),\n",
       " array(0.6854387374696346),\n",
       " array(0.6979615879096875),\n",
       " array(0.6927938131110196),\n",
       " array(0.670896451200808),\n",
       " array(0.6907489529175187),\n",
       " array(0.6794088282850566),\n",
       " array(0.693112163541826),\n",
       " array(0.6868717890862359),\n",
       " array(0.6812105363595125),\n",
       " array(0.6858890334459479),\n",
       " array(0.6827692282884319),\n",
       " array(0.6669778210182955),\n",
       " array(0.6760588702554926),\n",
       " array(0.6714927117300733),\n",
       " array(0.6954839963133802),\n",
       " array(0.6942197548630159),\n",
       " array(0.6956033629078455),\n",
       " array(0.6656859659291918),\n",
       " array(0.6838154052310887),\n",
       " array(0.6841779676192435),\n",
       " array(0.6770773168544552),\n",
       " array(0.6729357365209463),\n",
       " array(0.6711121192938008),\n",
       " array(0.6862433588588933),\n",
       " array(0.6949017599142355),\n",
       " array(0.6757518457016934),\n",
       " array(0.6743467216902077),\n",
       " array(0.6574559318318864),\n",
       " array(0.6737140604378192),\n",
       " array(0.660916282502343),\n",
       " array(0.7199056480385406),\n",
       " array(0.6885751452612084),\n",
       " array(0.662637964570082),\n",
       " array(0.7052911151408529),\n",
       " array(0.6833020206356654),\n",
       " array(0.6921328868531104),\n",
       " array(0.6459199515107514),\n",
       " array(0.6683971493256438),\n",
       " array(0.6851106453269271),\n",
       " array(0.6729870885043087),\n",
       " array(0.6671552154731709),\n",
       " array(0.6815199499832504),\n",
       " array(0.6796151155346052),\n",
       " array(0.6853482606439992),\n",
       " array(0.6687167758039441),\n",
       " array(0.6734613399721588),\n",
       " array(0.6571309171680227),\n",
       " array(0.6446712236868747),\n",
       " array(0.685686245932408),\n",
       " array(0.6547248025332226),\n",
       " array(0.6786448882736795),\n",
       " array(0.6734871239292044),\n",
       " array(0.6787972173936151),\n",
       " array(0.6679496098863911),\n",
       " array(0.6801545861340763),\n",
       " array(0.6643373097456935),\n",
       " array(0.6821606291189495),\n",
       " array(0.6995034453839069),\n",
       " array(0.6791175617307819),\n",
       " array(0.672912276818278),\n",
       " array(0.6456632374630217),\n",
       " array(0.6635233167521972),\n",
       " array(0.6540859247489843),\n",
       " array(0.7043881470858282),\n",
       " array(0.6701058298143266),\n",
       " array(0.6737804169589722),\n",
       " array(0.6816500619929267),\n",
       " array(0.6548816278521248),\n",
       " array(0.6517823647977687),\n",
       " array(0.6446444306068686),\n",
       " array(0.6382227530695426),\n",
       " array(0.6587576591470881),\n",
       " array(0.6634201550375167),\n",
       " array(0.6786258096772734),\n",
       " array(0.6656258128440631),\n",
       " array(0.6772356547198086),\n",
       " array(0.6719592797170522),\n",
       " array(0.6292421092999588),\n",
       " array(0.6814838720502452),\n",
       " array(0.6762513627187229),\n",
       " array(0.6760849244339595),\n",
       " array(0.6775898296999447),\n",
       " array(0.6429347153886097),\n",
       " array(0.6869968195540385),\n",
       " array(0.6840434912600762),\n",
       " array(0.6834176943304595),\n",
       " array(0.6770222194911124),\n",
       " array(0.6495658657463659),\n",
       " array(0.6673797754863461),\n",
       " array(0.6619827572344731),\n",
       " array(0.6664341926140208),\n",
       " array(0.6535294537835309),\n",
       " array(0.6688687217318843),\n",
       " array(0.6465863040915691),\n",
       " array(0.6777666093238103),\n",
       " array(0.7411811515909336),\n",
       " array(0.6487126889442902),\n",
       " array(0.6301534055401162),\n",
       " array(0.6348456283014431),\n",
       " array(0.6664998167805026),\n",
       " array(0.6614049816040722),\n",
       " array(0.6637872218542101),\n",
       " array(0.8076738054261466),\n",
       " array(0.6790342587807427),\n",
       " array(0.6509709397200671),\n",
       " array(0.6368964938540767),\n",
       " array(0.6957880923195534),\n",
       " array(0.6298169708707149),\n",
       " array(0.6251437178435247),\n",
       " array(0.6386142961701935),\n",
       " array(0.6077858965816507),\n",
       " array(0.6276134586091521),\n",
       " array(0.6590789981971723),\n",
       " array(0.6075225434250264),\n",
       " array(0.5620303863719092),\n",
       " array(0.927107396773631),\n",
       " array(0.7601897928929852),\n",
       " array(0.6724152321741124),\n",
       " array(0.6713205260729076),\n",
       " array(0.6612647002563866),\n",
       " array(0.6985515500709699),\n",
       " array(0.6709006758703956),\n",
       " array(0.6423017413587238),\n",
       " array(0.6541603998798349),\n",
       " array(0.6634601148439573),\n",
       " array(0.6113881425442471),\n",
       " array(0.6447398935224041),\n",
       " array(0.6690609018396523),\n",
       " array(0.6606902197778761),\n",
       " array(0.6388650383349086),\n",
       " array(0.6417611623819157),\n",
       " array(0.6722593107171175),\n",
       " array(0.6771584428919326),\n",
       " array(0.676536541530169),\n",
       " array(0.6603720223373314),\n",
       " array(0.6799192538362585),\n",
       " array(0.706168777474965),\n",
       " array(0.6494745399479803),\n",
       " array(0.6336392364069307),\n",
       " array(0.6255146215453963),\n",
       " array(0.7001665227244563),\n",
       " array(0.6041034301476229),\n",
       " array(0.6053919108703771),\n",
       " array(0.6175869695350348),\n",
       " array(0.6340108666599719),\n",
       " array(0.6206675011242033),\n",
       " array(0.6484739828473751),\n",
       " array(0.6471405197272074),\n",
       " array(0.6477219187331869),\n",
       " array(0.6539578694694741),\n",
       " array(0.6107217776650479),\n",
       " array(0.6591138915833585),\n",
       " array(0.6656284154927111),\n",
       " array(0.643019299411993),\n",
       " array(0.5796836825110149),\n",
       " array(0.6652953975236859),\n",
       " array(0.6896353968724239),\n",
       " array(0.6894736976742627),\n",
       " array(0.6596196209406614),\n",
       " array(0.6802965446917676),\n",
       " array(0.6721244532066898),\n",
       " array(0.6957368423193956),\n",
       " array(0.6225307735903903),\n",
       " array(0.6820520098746566),\n",
       " array(0.662608288401403),\n",
       " array(0.6392961071686382),\n",
       " array(0.6630812436628256),\n",
       " array(0.6108456885277158),\n",
       " array(0.541200542745322),\n",
       " array(0.6097149592178691),\n",
       " array(0.6578360089781257),\n",
       " array(0.7353710212737641),\n",
       " array(0.5891675930388899),\n",
       " array(0.6637158441481258),\n",
       " array(0.6718377516077084),\n",
       " array(0.6172049313488914),\n",
       " array(0.6161419161905212),\n",
       " array(0.6434990232286342),\n",
       " array(0.6874460144208373),\n",
       " array(0.6245019664422715),\n",
       " array(0.6252059901495433),\n",
       " array(0.6090276724774419),\n",
       " array(0.6305835586964018),\n",
       " array(0.6539708631676991),\n",
       " array(0.6202357219836372),\n",
       " array(0.660266990812846),\n",
       " array(0.6103418471111768),\n",
       " array(0.6310138124958239),\n",
       " array(0.6552364756201021),\n",
       " array(0.6456208401034209),\n",
       " array(0.5772210946331626),\n",
       " array(0.6865984281952249),\n",
       " array(0.7371671530067084),\n",
       " array(0.653840458174127),\n",
       " array(0.6404486378189652),\n",
       " array(0.5965007569553293),\n",
       " array(0.6625012868215424),\n",
       " array(0.6409735035680704),\n",
       " array(0.6096290942214855),\n",
       " array(0.5568338371307433),\n",
       " array(0.6509250785856918),\n",
       " array(0.5608972206853524),\n",
       " array(0.7094547302573448),\n",
       " array(0.620809685839298),\n",
       " array(0.653971489651664),\n",
       " array(0.6339179016393267),\n",
       " array(0.6468007606197471),\n",
       " array(0.5849453633035246),\n",
       " array(0.7048369486858266),\n",
       " array(0.6338512166280914),\n",
       " array(0.6090273888554673),\n",
       " array(0.6219724586322145),\n",
       " array(0.6290001876222469),\n",
       " array(0.6018738000602537),\n",
       " array(0.5116183697109874),\n",
       " array(0.5225984211036008),\n",
       " array(0.6307442031064573),\n",
       " array(0.5402777303082305),\n",
       " array(0.7558584082290153),\n",
       " array(0.7531079744874223),\n",
       " array(0.6252412568073566),\n",
       " array(0.6126185999157546),\n",
       " array(0.654132795401351),\n",
       " array(0.6241107344353969),\n",
       " array(0.6075840954959624),\n",
       " array(0.6220022087437094),\n",
       " array(0.6618947807156552),\n",
       " array(0.6297489976922467),\n",
       " array(0.6630228293638664),\n",
       " array(0.6507996348690325),\n",
       " array(0.594460598524279),\n",
       " array(0.6145187248410829),\n",
       " array(0.6704711531213392),\n",
       " array(0.6093336513770328),\n",
       " array(0.593924750581183),\n",
       " array(0.6227320562669362),\n",
       " array(0.6034576996336387),\n",
       " array(0.6230667767465456),\n",
       " array(0.6127946103416556),\n",
       " array(0.6103058008929912),\n",
       " array(0.6167679561483117),\n",
       " array(0.6337986289707789),\n",
       " array(0.6336165968951617),\n",
       " array(0.6180549211559203),\n",
       " array(0.5448076023296622),\n",
       " array(0.5319930910197884),\n",
       " array(0.6286201150128823),\n",
       " array(0.5680409997976386),\n",
       " array(0.539090874166527),\n",
       " array(0.5704178130129193),\n",
       " array(0.84188743012953),\n",
       " array(0.5614842104687078),\n",
       " array(0.6827246902493846),\n",
       " array(0.6624239422750368),\n",
       " array(0.6320237135725609),\n",
       " array(0.6906205225688564),\n",
       " array(0.6475355298826737),\n",
       " array(0.5839784024489751),\n",
       " array(0.5572342774811763),\n",
       " array(0.6266053070670748),\n",
       " array(0.7044117107820981),\n",
       " array(0.5945282993145611),\n",
       " array(0.5976984277657336),\n",
       " array(0.5623341034172212),\n",
       " array(0.6098971027385801),\n",
       " array(0.6101774455829891),\n",
       " array(0.6246436558613792),\n",
       " array(0.5893369486980922),\n",
       " array(0.5435255265968304),\n",
       " array(0.6515314086771092),\n",
       " array(0.5469336380756518),\n",
       " array(0.5436211213001586)]"
      ]
     },
     "execution_count": 12,
     "metadata": {},
     "output_type": "execute_result"
    }
   ],
   "source": [
    "model.fit(X_train,y_train, n_epochs=1)"
   ]
  },
  {
   "cell_type": "code",
   "execution_count": 23,
   "metadata": {
    "collapsed": true
   },
   "outputs": [],
   "source": [
    "X_test = tokenizer.transform(testReview)\n",
    "result = model.predict(X_test)"
   ]
  },
  {
   "cell_type": "code",
   "execution_count": 24,
   "metadata": {
    "collapsed": false
   },
   "outputs": [],
   "source": [
    "rt = (result > 0.5).astype(int)"
   ]
  },
  {
   "cell_type": "code",
   "execution_count": 28,
   "metadata": {
    "collapsed": false
   },
   "outputs": [],
   "source": [
    "rt = rt.flatten()"
   ]
  },
  {
   "cell_type": "code",
   "execution_count": 29,
   "metadata": {
    "collapsed": false
   },
   "outputs": [],
   "source": [
    "output = pd.DataFrame(data={\"id\":test[\"id\"],\"sentiment\":rt})"
   ]
  },
  {
   "cell_type": "code",
   "execution_count": 30,
   "metadata": {
    "collapsed": false
   },
   "outputs": [
    {
     "data": {
      "text/html": [
       "<div>\n",
       "<table border=\"1\" class=\"dataframe\">\n",
       "  <thead>\n",
       "    <tr style=\"text-align: right;\">\n",
       "      <th></th>\n",
       "      <th>id</th>\n",
       "      <th>sentiment</th>\n",
       "    </tr>\n",
       "  </thead>\n",
       "  <tbody>\n",
       "    <tr>\n",
       "      <th>0</th>\n",
       "      <td>\"12311_10\"</td>\n",
       "      <td>1</td>\n",
       "    </tr>\n",
       "    <tr>\n",
       "      <th>1</th>\n",
       "      <td>\"8348_2\"</td>\n",
       "      <td>0</td>\n",
       "    </tr>\n",
       "    <tr>\n",
       "      <th>2</th>\n",
       "      <td>\"5828_4\"</td>\n",
       "      <td>1</td>\n",
       "    </tr>\n",
       "    <tr>\n",
       "      <th>3</th>\n",
       "      <td>\"7186_2\"</td>\n",
       "      <td>1</td>\n",
       "    </tr>\n",
       "    <tr>\n",
       "      <th>4</th>\n",
       "      <td>\"12128_7\"</td>\n",
       "      <td>1</td>\n",
       "    </tr>\n",
       "  </tbody>\n",
       "</table>\n",
       "</div>"
      ],
      "text/plain": [
       "           id  sentiment\n",
       "0  \"12311_10\"          1\n",
       "1    \"8348_2\"          0\n",
       "2    \"5828_4\"          1\n",
       "3    \"7186_2\"          1\n",
       "4   \"12128_7\"          1"
      ]
     },
     "execution_count": 30,
     "metadata": {},
     "output_type": "execute_result"
    }
   ],
   "source": [
    "output.head()"
   ]
  },
  {
   "cell_type": "code",
   "execution_count": null,
   "metadata": {
    "collapsed": true
   },
   "outputs": [],
   "source": []
  }
 ],
 "metadata": {
  "kernelspec": {
   "display_name": "Python 2",
   "language": "python",
   "name": "python2"
  },
  "language_info": {
   "codemirror_mode": {
    "name": "ipython",
    "version": 2
   },
   "file_extension": ".py",
   "mimetype": "text/x-python",
   "name": "python",
   "nbconvert_exporter": "python",
   "pygments_lexer": "ipython2",
   "version": "2.7.11"
  }
 },
 "nbformat": 4,
 "nbformat_minor": 0
}
